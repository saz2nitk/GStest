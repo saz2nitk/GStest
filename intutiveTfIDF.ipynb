{
 "cells": [
  {
   "cell_type": "markdown",
   "metadata": {},
   "source": [
    "## Amazon Fine Foods Review classification\n",
    "\n",
    "### Problem Statement\n",
    "\n",
    "You are an Amazon data scientist and have been asked to find out insights from the 'Amazon Fine Foods Review' data. Your aim is to do text classification using Deep Learning on the reviews. This dataset has various features but for this project you will only need the `reviews(text)` as training data. This is a supervised Learning task so you will use `Score` as the label, while training. You have to make a classification model which will rate the review at a scale from 1 to 5.\n",
    "\n",
    "### About the dataset\n",
    "\n",
    "This dataset consists of reviews of fine foods from amazon. The data span a period of more than 10 years, including all ~500,000 reviews up to October 2012. Reviews include product and user information, ratings, and a plain text review. It also includes reviews from all other Amazon categories. The original data contains `568,454` reviews collected from `256,059` users on `74,258` products. \n",
    "\n",
    "The snapshot of the data, you will be working on :\n",
    "\n",
    "![](data.PNG)\n",
    "\n",
    "\n",
    "\n",
    "They have been divided into a zip file.\n",
    "\n",
    "A zipped file containing the following items is given:\n",
    "\n",
    "- `train.csv`\n",
    "\n",
    "The data file `train.csv` contains the `40500` instances with the `3` features including the target feature\n",
    "\n",
    "- `test.csv`\n",
    "\n",
    "The datafile `test.csv` contains the `1000`instances with the `2` feature excluding the target feature.\n",
    "\n",
    "- `sample_submission.csv` \n",
    "\n",
    "Explained under the `Submission` sub-heading\n",
    "\n",
    "\n",
    "- `food_review_classification_student_template.ipynb`\n",
    "\n",
    "A template notebook explaining the task breakdown to solve the given problem statement\n",
    "(***Learners are recommended to use it***)\n",
    "\n",
    "## Submission\n",
    "\n",
    "After training the model on `train.csv` data, the learner has to predict the target feature of the `test.csv` data using the trained model. The learner has to then submit a csv file with the predicted feature.\n",
    "\n",
    "Sample submission file(`sample_submission.csv`) is given to you as a reference to the format expected when you submit \n",
    "\n",
    "\n",
    "## Evaluation metrics\n",
    "\n",
    "For this particular dataset we are using simple `F1 Score`(weighted) as the evaluation metric. \n",
    "\n",
    "Submissions will be evaluated based on [F1 score](https://scikit-learn.org/stable/modules/generated/sklearn.metrics.f1_score.html) as  per the below threshold.\n",
    "\n",
    "\n",
    "|Your `F1 score` score| Points earned for the Task|\n",
    "|-----|-----|\n",
    "|`F1 score`>= 0.63|100% of the available points|\n",
    "| 0.63 > `F1 score` >= 0.60 |80% of the available points|\n",
    "| 0.60 > `F1 score` >= 0.55 |70% of the available points|\n",
    "|`F1 score` < 0.55|No points earned|\n",
    "\n",
    "\n",
    "### Outcomes\n",
    "\n",
    "After completing this project you will understand the basic pipeline of sentiment classification using Deep Learning. In this project you will apply the following concepts:\n",
    "\n",
    "- Word Embeddings using GloVe\n",
    "- LSTM using keras\n",
    "\n",
    "\n",
    "\n",
    "### Acknowledgements\n",
    "\n",
    "More information about the datasets can be found at https://www.kaggle.com/snap/amazon-fine-food-reviews.\n",
    "\n",
    "\n"
   ]
  },
  {
   "cell_type": "markdown",
   "metadata": {
    "colab_type": "text",
    "id": "WIEqQMWKI9M6"
   },
   "source": [
    "### Load Data"
   ]
  },
  {
   "cell_type": "code",
   "execution_count": 2,
   "metadata": {},
   "outputs": [
    {
     "name": "stdout",
     "output_type": "stream",
     "text": [
      "Collecting gensim\n",
      "  Downloading https://files.pythonhosted.org/packages/b3/8b/b31d8c6d74292f745aa06fdc02fb8e1e529736ab1de922e5402a50e0a042/gensim-3.8.3-cp36-cp36m-win_amd64.whl (24.2MB)\n",
      "Collecting smart-open>=1.8.1 (from gensim)\n",
      "  Downloading https://files.pythonhosted.org/packages/74/77/744c79da6e66691e3500b6dffff29bdd787015eae817d594791edc7b719b/smart_open-2.0.0.tar.gz (103kB)\n",
      "Requirement already satisfied: six>=1.5.0 in c:\\programdata\\anaconda3\\lib\\site-packages (from gensim) (1.13.0)\n",
      "Requirement already satisfied: scipy>=0.18.1 in c:\\programdata\\anaconda3\\lib\\site-packages (from gensim) (1.3.1)\n",
      "Requirement already satisfied: numpy>=1.11.3 in c:\\programdata\\anaconda3\\lib\\site-packages (from gensim) (1.18.1)\n",
      "Collecting Cython==0.29.14 (from gensim)\n",
      "  Downloading https://files.pythonhosted.org/packages/ca/5d/7344d00b55f060243cf4f04c2fcee8c245a0af2b0bc236fc6dbb5021dcd6/Cython-0.29.14-cp36-cp36m-win_amd64.whl (1.7MB)\n",
      "Requirement already satisfied: requests in c:\\programdata\\anaconda3\\lib\\site-packages (from smart-open>=1.8.1->gensim) (2.18.4)\n",
      "Requirement already satisfied: boto in c:\\programdata\\anaconda3\\lib\\site-packages (from smart-open>=1.8.1->gensim) (2.48.0)\n",
      "Collecting boto3 (from smart-open>=1.8.1->gensim)\n",
      "  Downloading https://files.pythonhosted.org/packages/9f/ac/277f20e320c0e5b3afe7c1c3f0e16d25ae91fa406eedf4030e1587cc7458/boto3-1.13.6-py2.py3-none-any.whl (128kB)\n",
      "Requirement already satisfied: chardet<3.1.0,>=3.0.2 in c:\\programdata\\anaconda3\\lib\\site-packages (from requests->smart-open>=1.8.1->gensim) (3.0.4)\n",
      "Requirement already satisfied: idna<2.7,>=2.5 in c:\\programdata\\anaconda3\\lib\\site-packages (from requests->smart-open>=1.8.1->gensim) (2.6)\n",
      "Requirement already satisfied: urllib3<1.23,>=1.21.1 in c:\\programdata\\anaconda3\\lib\\site-packages (from requests->smart-open>=1.8.1->gensim) (1.22)\n",
      "Requirement already satisfied: certifi>=2017.4.17 in c:\\programdata\\anaconda3\\lib\\site-packages (from requests->smart-open>=1.8.1->gensim) (2019.11.28)\n",
      "Collecting jmespath<1.0.0,>=0.7.1 (from boto3->smart-open>=1.8.1->gensim)\n",
      "  Using cached https://files.pythonhosted.org/packages/a3/43/1e939e1fcd87b827fe192d0c9fc25b48c5b3368902bfb913de7754b0dc03/jmespath-0.9.5-py2.py3-none-any.whl\n",
      "Collecting s3transfer<0.4.0,>=0.3.0 (from boto3->smart-open>=1.8.1->gensim)\n",
      "  Using cached https://files.pythonhosted.org/packages/69/79/e6afb3d8b0b4e96cefbdc690f741d7dd24547ff1f94240c997a26fa908d3/s3transfer-0.3.3-py2.py3-none-any.whl\n",
      "Collecting botocore<1.17.0,>=1.16.6 (from boto3->smart-open>=1.8.1->gensim)\n",
      "  Downloading https://files.pythonhosted.org/packages/33/d8/28d88d8f7210c0ecc81d53abc5025b35eede4256a636823e76964ccca408/botocore-1.16.6-py2.py3-none-any.whl (6.2MB)\n",
      "Requirement already satisfied: python-dateutil<3.0.0,>=2.1 in c:\\programdata\\anaconda3\\lib\\site-packages (from botocore<1.17.0,>=1.16.6->boto3->smart-open>=1.8.1->gensim) (2.8.1)\n",
      "Requirement already satisfied: docutils<0.16,>=0.10 in c:\\programdata\\anaconda3\\lib\\site-packages (from botocore<1.17.0,>=1.16.6->boto3->smart-open>=1.8.1->gensim) (0.14)\n",
      "Building wheels for collected packages: smart-open\n",
      "  Running setup.py bdist_wheel for smart-open: started\n",
      "  Running setup.py bdist_wheel for smart-open: finished with status 'done'\n",
      "  Stored in directory: C:\\Users\\saz2n\\AppData\\Local\\pip\\Cache\\wheels\\27\\65\\38\\8d7f5fe8d7afb4e4566587b2d1933cec185fba19257836c943\n",
      "Successfully built smart-open\n",
      "Installing collected packages: jmespath, botocore, s3transfer, boto3, smart-open, Cython, gensim\n",
      "  Found existing installation: Cython 0.28.2\n",
      "    Uninstalling Cython-0.28.2:\n"
     ]
    },
    {
     "name": "stderr",
     "output_type": "stream",
     "text": [
      "distributed 1.21.8 requires msgpack, which is not installed.\n",
      "tensorflow 1.15.0 has requirement opt-einsum>=2.3.2, but you'll have opt-einsum 0+untagged.49.gdbede45.dirty which is incompatible.\n",
      "tensorboard 1.15.0 has requirement setuptools>=41.0.0, but you'll have setuptools 39.1.0 which is incompatible.\n",
      "scikit-image 0.14.2 has requirement dask[array]>=1.0.0, but you'll have dask 0.17.5 which is incompatible.\n",
      "mxnet 1.6.0 has requirement numpy<1.17.0,>=1.8.2, but you'll have numpy 1.18.1 which is incompatible.\n",
      "heroku 0.1.4 has requirement python-dateutil==1.5, but you'll have python-dateutil 2.8.1 which is incompatible.\n",
      "Could not install packages due to an EnvironmentError: [WinError 5] Access is denied: 'c:\\\\programdata\\\\anaconda3\\\\lib\\\\site-packages\\\\__pycache__\\\\cython.cpython-36.pyc'\n",
      "Consider using the `--user` option or check the permissions.\n",
      "\n",
      "You are using pip version 10.0.1, however version 20.1 is available.\n",
      "You should consider upgrading via the 'python -m pip install --upgrade pip' command.\n"
     ]
    }
   ],
   "source": [
    "!pip install gensim"
   ]
  },
  {
   "cell_type": "code",
   "execution_count": 3,
   "metadata": {
    "ExecuteTime": {
     "end_time": "2019-06-20T22:35:00.816413Z",
     "start_time": "2019-06-20T22:34:56.928553Z"
    },
    "colab": {
     "base_uri": "https://localhost:8080/",
     "height": 54
    },
    "colab_type": "code",
    "id": "ekodMX2QI9M8",
    "outputId": "744604eb-24f9-4a94-f1ff-65cd45d4f953"
   },
   "outputs": [
    {
     "name": "stdout",
     "output_type": "stream",
     "text": [
      "[nltk_data] Downloading package stopwords to\n",
      "[nltk_data]     C:\\Users\\saz2n\\AppData\\Roaming\\nltk_data...\n",
      "[nltk_data]   Package stopwords is already up-to-date!\n"
     ]
    },
    {
     "ename": "ModuleNotFoundError",
     "evalue": "No module named 'gensim'",
     "output_type": "error",
     "traceback": [
      "\u001b[1;31m---------------------------------------------------------------------------\u001b[0m",
      "\u001b[1;31mModuleNotFoundError\u001b[0m                       Traceback (most recent call last)",
      "\u001b[1;32m<ipython-input-3-5ac83fc56709>\u001b[0m in \u001b[0;36m<module>\u001b[1;34m()\u001b[0m\n\u001b[0;32m     37\u001b[0m \u001b[1;32mimport\u001b[0m \u001b[0mseaborn\u001b[0m \u001b[1;32mas\u001b[0m \u001b[0msb\u001b[0m\u001b[1;33m\u001b[0m\u001b[0m\n\u001b[0;32m     38\u001b[0m \u001b[1;32mimport\u001b[0m \u001b[0mmatplotlib\u001b[0m\u001b[1;33m.\u001b[0m\u001b[0mpyplot\u001b[0m \u001b[1;32mas\u001b[0m \u001b[0mplt\u001b[0m\u001b[1;33m\u001b[0m\u001b[0m\n\u001b[1;32m---> 39\u001b[1;33m \u001b[1;32mimport\u001b[0m \u001b[0mgensim\u001b[0m\u001b[1;33m\u001b[0m\u001b[0m\n\u001b[0m",
      "\u001b[1;31mModuleNotFoundError\u001b[0m: No module named 'gensim'"
     ]
    }
   ],
   "source": [
    "# Import the required libraries\n",
    "\n",
    "import numpy as np\n",
    "import pandas as pd\n",
    "import matplotlib.pyplot as plt\n",
    "from matplotlib import style\n",
    "import seaborn as sns\n",
    "import re\n",
    "\n",
    "# TensorFlow and tf.keras\n",
    "import tensorflow as tf\n",
    "from tensorflow import keras\n",
    "\n",
    "# nltk\n",
    "import nltk\n",
    "nltk.download(\"stopwords\")\n",
    "from nltk.corpus import stopwords\n",
    "from nltk.stem.porter import PorterStemmer\n",
    "from nltk import word_tokenize,sent_tokenize\n",
    "\n",
    "# keras\n",
    "from sklearn.feature_extraction.text import CountVectorizer\n",
    "from tensorflow.keras.preprocessing.text import Tokenizer\n",
    "from tensorflow.keras.preprocessing.sequence import pad_sequences\n",
    "from tensorflow.keras.models import Sequential\n",
    "from tensorflow.keras.layers import Dense, Embedding, LSTM\n",
    "from sklearn.model_selection import train_test_split\n",
    "from tensorflow.keras.utils import to_categorical\n",
    "\n",
    "# sklearn\n",
    "from sklearn.feature_extraction.text import TfidfVectorizer\n",
    "from sklearn.model_selection import train_test_split\n",
    "\n",
    "from sklearn.preprocessing import StandardScaler\n",
    "from sklearn.manifold import TSNE\n",
    "from sklearn.feature_extraction.text import TfidfTransformer\n",
    "import seaborn as sb\n",
    "import matplotlib.pyplot as plt\n",
    "import gensim"
   ]
  },
  {
   "cell_type": "code",
   "execution_count": null,
   "metadata": {
    "ExecuteTime": {
     "end_time": "2019-06-20T22:36:27.946573Z",
     "start_time": "2019-06-20T22:35:12.687848Z"
    },
    "colab": {
     "base_uri": "https://localhost:8080/",
     "height": 202
    },
    "colab_type": "code",
    "id": "CHubsiajI9NA",
    "outputId": "0430a3b5-8e4c-422f-8449-0e5106a696df"
   },
   "outputs": [],
   "source": [
    "# Load Data\n",
    "df = pd.read_csv(\"train.csv\")\n",
    "df = df[:7000]\n",
    "\n",
    "# Function to pre-process one sample\n",
    "def pre_process(review=None):\n",
    "    review = re.sub('[^a-zA-Z]', ' ', review)\n",
    "    review = review.lower()\n",
    "    review = review.split()\n",
    "    ps = PorterStemmer()\n",
    "    review = [ps.stem(word) for word in review if not word in set(stopwords.words('english'))]\n",
    "    review = ' '.join(review)\n",
    "    return review\n",
    "    \n",
    "\n",
    "# Pre-process the entire column of reviews of train and test\n",
    "corpus = []\n",
    "for i in range(df.shape[0]):\n",
    "    review = pre_process(df['Text'][i])\n",
    "    corpus.append(review)\n",
    "    \n",
    "# Make a new dataframe using the reviews and score\n",
    "corpus = pd.DataFrame(corpus, columns=['Text']) \n",
    "result = corpus.join([df['Score']])\n",
    "result.dropna(inplace=True)\n",
    "result['Score'] = result['Score'].astype('int')\n",
    "\n",
    "result.head()"
   ]
  },
  {
   "cell_type": "markdown",
   "metadata": {
    "ExecuteTime": {
     "end_time": "2019-06-10T21:14:12.512467Z",
     "start_time": "2019-06-10T21:14:12.487709Z"
    },
    "colab_type": "text",
    "id": "PnPdhNhyI9NG"
   },
   "source": [
    "\n",
    "\n",
    "\n",
    "\n",
    "\n",
    "\n",
    "\n",
    "\n",
    "\n",
    "\n",
    "\n",
    "\n",
    "\n",
    "### Visualization using t-SNE and Word2Vec"
   ]
  },
  {
   "cell_type": "code",
   "execution_count": null,
   "metadata": {},
   "outputs": [],
   "source": []
  },
  {
   "cell_type": "code",
   "execution_count": 82,
   "metadata": {
    "ExecuteTime": {
     "end_time": "2019-06-11T15:47:58.566537Z",
     "start_time": "2019-06-11T15:46:46.599728Z"
    },
    "colab": {
     "base_uri": "https://localhost:8080/",
     "height": 531
    },
    "colab_type": "code",
    "id": "s9d3gUpqI9NH",
    "outputId": "c67e85c3-7e3a-47bb-c20c-b44271f64c63"
   },
   "outputs": [
    {
     "name": "stderr",
     "output_type": "stream",
     "text": [
      "C:\\Users\\nnair\\miniconda3\\lib\\site-packages\\ipykernel_launcher.py:15: DeprecationWarning: Call to deprecated `__getitem__` (Method will be removed in 4.0.0, use self.wv.__getitem__() instead).\n",
      "  from ipykernel import kernelapp as app\n",
      "C:\\Users\\nnair\\miniconda3\\lib\\site-packages\\ipykernel_launcher.py:26: FutureWarning: elementwise comparison failed; returning scalar instead, but in the future will perform elementwise comparison\n",
      "C:\\Users\\nnair\\miniconda3\\lib\\site-packages\\seaborn\\axisgrid.py:243: UserWarning: The `size` parameter has been renamed to `height`; please update your code.\n",
      "  warnings.warn(msg, UserWarning)\n"
     ]
    },
    {
     "data": {
      "image/png": "[encoded data removed]",
      "text/plain": [
       "<Figure size 412x360 with 1 Axes>"
      ]
     },
     "metadata": {
      "needs_background": "light"
     },
     "output_type": "display_data"
    }
   ],
   "source": [
    "# Implement TF-IDF\n",
    "tfidf_vect = TfidfVectorizer(ngram_range=(1,1))\n",
    "tfidf_data = result['Text']\n",
    "tfidf_data = tfidf_vect.fit_transform(tfidf_data)\n",
    "tfidf_data = tfidf_data.todense()\n",
    "\n",
    "\n",
    "# Implement Word2Vec\n",
    "w2v_points = result['Text']\n",
    "sent_list = []\n",
    "for sent in w2v_points:\n",
    "    sentence = sent.split()\n",
    "    sent_list.append(sentence)\n",
    "w2v_model = gensim.models.Word2Vec(sent_list, min_count=5, size=50, workers=4)\n",
    "w2v_words = w2v_model[w2v_model.wv.vocab]\n",
    "\n",
    "\n",
    "# Construct sentence vectors from aove 2 results\n",
    "tfidf_feat = tfidf_vect.get_feature_names()\n",
    "tfidf_w2v_vectors = []\n",
    "row = 0\n",
    "for sent in sent_list:\n",
    "    sent_vec = np.zeros(200)\n",
    "    weight_sum = 0\n",
    "    for word in sent:\n",
    "        if word in w2v_words:\n",
    "            vec = w2v_model.wv[word]\n",
    "            tf_idf = final_tf_idf[row, tfidf_feat.index(word)]\n",
    "            sent_vec += (vec*tf_idf)\n",
    "            weight_sum += tf_idf\n",
    "    if weight_sum != 0:\n",
    "        sent_vec /= weight_sum\n",
    "    tfidf_w2v_vectors.append(sent_vec)\n",
    "    row += 1\n",
    "\n",
    "\n",
    "# Implement t-SNE\n",
    "labels = result['Score']\n",
    "model = TSNE(n_components=2, random_state=15, perplexity=30, n_iter=2000)\n",
    "tfidf_w2v_points = model.fit_transform(tfidf_w2v_vectors)\n",
    "tsne_data = np.vstack((tfidf_w2v_points.T, labels)).T\n",
    "tsne_df = pd.DataFrame(data=tsne_data, columns=('Dim_1', 'Dim_2', 'label'))\n",
    "\n",
    "\n",
    "# Plotting graph for class labels\n",
    "sb.FacetGrid(tsne_df, hue='label', size=5).map(plt.scatter, 'Dim_1', 'Dim_2').add_legend()\n",
    "plt.title(\"TSNE with default parameters\")\n",
    "plt.xlabel(\"Dim_1\")\n",
    "plt.ylabel(\"Dim_2\")\n",
    "plt.show()"
   ]
  },
  {
   "cell_type": "markdown",
   "metadata": {
    "colab_type": "text",
    "id": "2Pnz6VMzI9NL"
   },
   "source": [
    "### Model Building"
   ]
  },
  {
   "cell_type": "code",
   "execution_count": 83,
   "metadata": {
    "ExecuteTime": {
     "end_time": "2019-06-20T23:01:09.738070Z",
     "start_time": "2019-06-20T22:36:47.513391Z"
    },
    "colab": {
     "base_uri": "https://localhost:8080/",
     "height": 683
    },
    "colab_type": "code",
    "id": "plojGUXgI9NL",
    "outputId": "739488c7-e0ef-47b3-e3c7-9e718c99f194"
   },
   "outputs": [
    {
     "name": "stderr",
     "output_type": "stream",
     "text": [
      "C:\\Users\\nnair\\miniconda3\\lib\\site-packages\\keras_preprocessing\\text.py:178: UserWarning: The `nb_words` argument in `Tokenizer` has been renamed `num_words`.\n",
      "  warnings.warn('The `nb_words` argument in `Tokenizer` '\n"
     ]
    },
    {
     "name": "stdout",
     "output_type": "stream",
     "text": [
      "Model: \"sequential_1\"\n",
      "_________________________________________________________________\n",
      "Layer (type)                 Output Shape              Param #   \n",
      "=================================================================\n",
      "embedding_1 (Embedding)      (None, 592, 150)          1500000   \n",
      "_________________________________________________________________\n",
      "lstm_1 (LSTM)                (None, 200)               280800    \n",
      "_________________________________________________________________\n",
      "dense_1 (Dense)              (None, 5)                 1005      \n",
      "=================================================================\n",
      "Total params: 1,781,805\n",
      "Trainable params: 1,781,805\n",
      "Non-trainable params: 0\n",
      "_________________________________________________________________\n",
      "None\n",
      "WARNING:tensorflow:The `nb_epoch` argument in `fit` has been renamed `epochs`.\n",
      "Train on 7000 samples\n",
      "Epoch 1/8\n",
      "7000/7000 - 406s - loss: 1.4793 - accuracy: 0.3181\n",
      "Epoch 2/8\n",
      "7000/7000 - 399s - loss: 1.1539 - accuracy: 0.5119\n",
      "Epoch 3/8\n",
      "7000/7000 - 393s - loss: 0.8605 - accuracy: 0.6589\n",
      "Epoch 4/8\n",
      "7000/7000 - 420s - loss: 0.5959 - accuracy: 0.7750\n",
      "Epoch 5/8\n",
      "7000/7000 - 403s - loss: 0.3906 - accuracy: 0.8613\n",
      "Epoch 6/8\n",
      "7000/7000 - 381s - loss: 0.2393 - accuracy: 0.9217\n",
      "Epoch 7/8\n",
      "7000/7000 - 378s - loss: 0.1650 - accuracy: 0.9443\n",
      "Epoch 8/8\n",
      "7000/7000 - 379s - loss: 0.1241 - accuracy: 0.9607\n"
     ]
    },
    {
     "data": {
      "text/plain": [
       "<tensorflow.python.keras.callbacks.History at 0x2009ace4508>"
      ]
     },
     "execution_count": 83,
     "metadata": {},
     "output_type": "execute_result"
    }
   ],
   "source": [
    "# Tokenize words to be fed to the model\n",
    "max_fatures = 10000\n",
    "tokenizer = Tokenizer(nb_words=max_fatures, split=' ')\n",
    "tokenizer.fit_on_texts(result['Text'].values)\n",
    "tokenizer.fit_on_texts(X_test)\n",
    "# tokenizer.fit_on_texts(X-test['Text'].values)\n",
    "X_train = tokenizer.texts_to_sequences(result['Text'].values)\n",
    "X_train = pad_sequences(X_train)\n",
    "Y_train = pd.get_dummies(result['Score']).values\n",
    "\n",
    "\n",
    "# Create the sequential model\n",
    "embed_dim = 150\n",
    "lstm_out = 200\n",
    "model = Sequential()\n",
    "model.add(Embedding(max_fatures, embed_dim,input_length = X_train.shape[1]))\n",
    "model.add(LSTM(lstm_out))\n",
    "model.add(Dense(5,activation='softmax'))\n",
    "model.compile(loss = 'categorical_crossentropy', optimizer='adam',metrics = ['accuracy'])\n",
    "print(model.summary())\n",
    "\n",
    "\n",
    "# Train\n",
    "batch_size = 32\n",
    "model.fit(X_train, Y_train, nb_epoch = 8, batch_size=batch_size, verbose = 2)"
   ]
  },
  {
   "cell_type": "markdown",
   "metadata": {
    "colab_type": "text",
    "id": "WAf1s6vyI9NP"
   },
   "source": [
    "## Validation of test data\n",
    "\n",
    "Let's now see how well our models run on test set.\n"
   ]
  },
  {
   "cell_type": "code",
   "execution_count": 84,
   "metadata": {},
   "outputs": [],
   "source": [
    "test_df = pd.read_csv(\"test.csv\")\n",
    "\n",
    "Y_test = pd.read_csv(\"actual.csv\")\n",
    "\n",
    "\n",
    "\n",
    "\n",
    "X_test = []\n",
    "for i in range(test_df.shape[0]):\n",
    "    review = pre_process(test_df['Text'][i])\n",
    "    X_test.append(review)\n",
    "\n",
    "X_test1 = tokenizer.texts_to_sequences(X_test)\n",
    "X_test1 = pad_sequences(X_test1, maxlen=X_train.shape[1])\n",
    "\n",
    "y_pred=model.predict(X_test1)\n",
    "\n",
    "y_pred2=np.argmax(y_pred, axis=1)\n",
    "y_pred2= [x+1 for x in y_pred2]\n",
    "\n",
    "\n",
    "\n",
    "submission=pd.DataFrame(y_pred2)\n",
    "\n",
    "\n",
    "# Create the submission file\n",
    "submission.to_csv('submission_reviews.csv',index=False,header=['Score'])"
   ]
  }
 ],
 "metadata": {
  "accelerator": "GPU",
  "colab": {
   "collapsed_sections": [],
   "name": "Solution.ipynb",
   "provenance": [],
   "toc_visible": true,
   "version": "0.3.2"
  },
  "kernelspec": {
   "display_name": "Python 3",
   "language": "python",
   "name": "python3"
  },
  "language_info": {
   "codemirror_mode": {
    "name": "ipython",
    "version": 3
   },
   "file_extension": ".py",
   "mimetype": "text/x-python",
   "name": "python",
   "nbconvert_exporter": "python",
   "pygments_lexer": "ipython3",
   "version": "3.6.5"
  }
 },
 "nbformat": 4,
 "nbformat_minor": 1
}
