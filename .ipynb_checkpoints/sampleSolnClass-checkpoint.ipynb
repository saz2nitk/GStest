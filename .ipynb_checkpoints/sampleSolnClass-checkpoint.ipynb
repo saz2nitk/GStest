{
 "cells": [
  {
   "cell_type": "code",
   "execution_count": 15,
   "metadata": {},
   "outputs": [],
   "source": [
    "import sklearn\n",
    "import numpy\n",
    "import nltk\n",
    "import keras\n",
    "import gensim\n",
    "import pandas as pd\n",
    "import matplotlib\n",
    "import seaborn as sns\n",
    "from gensim.models import KeyedVectors"
   ]
  },
  {
   "cell_type": "code",
   "execution_count": 4,
   "metadata": {},
   "outputs": [
    {
     "data": {
      "text/html": [
       "<div>\n",
       "<style scoped>\n",
       "    .dataframe tbody tr th:only-of-type {\n",
       "        vertical-align: middle;\n",
       "    }\n",
       "\n",
       "    .dataframe tbody tr th {\n",
       "        vertical-align: top;\n",
       "    }\n",
       "\n",
       "    .dataframe thead th {\n",
       "        text-align: right;\n",
       "    }\n",
       "</style>\n",
       "<table border=\"1\" class=\"dataframe\">\n",
       "  <thead>\n",
       "    <tr style=\"text-align: right;\">\n",
       "      <th></th>\n",
       "      <th>Text</th>\n",
       "      <th>Score</th>\n",
       "      <th>Summary</th>\n",
       "    </tr>\n",
       "  </thead>\n",
       "  <tbody>\n",
       "    <tr>\n",
       "      <th>0</th>\n",
       "      <td>I bought these from a large chain pet store. a...</td>\n",
       "      <td>1</td>\n",
       "      <td>do not buy</td>\n",
       "    </tr>\n",
       "    <tr>\n",
       "      <th>1</th>\n",
       "      <td>This soup is incredibly good!  But honestly, I...</td>\n",
       "      <td>5</td>\n",
       "      <td>Really great taste! Price should be less though.</td>\n",
       "    </tr>\n",
       "    <tr>\n",
       "      <th>2</th>\n",
       "      <td>Our family loves these tasty and healthy sesam...</td>\n",
       "      <td>5</td>\n",
       "      <td>Tasty and Healthy Snack</td>\n",
       "    </tr>\n",
       "    <tr>\n",
       "      <th>3</th>\n",
       "      <td>The local auto shop offers this free to it cus...</td>\n",
       "      <td>4</td>\n",
       "      <td>Quick, Easy and Tasty</td>\n",
       "    </tr>\n",
       "    <tr>\n",
       "      <th>4</th>\n",
       "      <td>I brought 2 bottles.  One I carry in my pocket...</td>\n",
       "      <td>5</td>\n",
       "      <td>Love it!!</td>\n",
       "    </tr>\n",
       "  </tbody>\n",
       "</table>\n",
       "</div>"
      ],
      "text/plain": [
       "                                                Text  Score  \\\n",
       "0  I bought these from a large chain pet store. a...      1   \n",
       "1  This soup is incredibly good!  But honestly, I...      5   \n",
       "2  Our family loves these tasty and healthy sesam...      5   \n",
       "3  The local auto shop offers this free to it cus...      4   \n",
       "4  I brought 2 bottles.  One I carry in my pocket...      5   \n",
       "\n",
       "                                            Summary  \n",
       "0                                        do not buy  \n",
       "1  Really great taste! Price should be less though.  \n",
       "2                           Tasty and Healthy Snack  \n",
       "3                             Quick, Easy and Tasty  \n",
       "4                                         Love it!!  "
      ]
     },
     "execution_count": 4,
     "metadata": {},
     "output_type": "execute_result"
    }
   ],
   "source": [
    "data = pd.read_csv('train.csv')\n",
    "data.head()"
   ]
  },
  {
   "cell_type": "code",
   "execution_count": 14,
   "metadata": {},
   "outputs": [
    {
     "data": {
      "text/plain": [
       "<matplotlib.axes._subplots.AxesSubplot at 0x1325fb750b8>"
      ]
     },
     "execution_count": 14,
     "metadata": {},
     "output_type": "execute_result"
    },
    {
     "data": {
      "image/png": "[encoded data removed]",
      "text/plain": [
       "<Figure size 432x288 with 1 Axes>"
      ]
     },
     "metadata": {},
     "output_type": "display_data"
    }
   ],
   "source": [
    "val = list(dict(data.Score.value_counts()).values())\n",
    "cat = list(dict(data.Score.value_counts()).keys())\n",
    "sns.barplot(x=cat,y=val)"
   ]
  },
  {
   "cell_type": "code",
   "execution_count": 16,
   "metadata": {},
   "outputs": [],
   "source": [
    "filename = './GoogleNews-vectors-negative300.bin/GoogleNews-vectors-negative300.bin'#'GoogleNews-vectors-negative300.bin'\n",
    "model = KeyedVectors.load_word2vec_format(filename, binary=True)"
   ]
  },
  {
   "cell_type": "code",
   "execution_count": 18,
   "metadata": {},
   "outputs": [
    {
     "data": {
      "text/plain": [
       "(300,)"
      ]
     },
     "execution_count": 18,
     "metadata": {},
     "output_type": "execute_result"
    }
   ],
   "source": [
    "model.get_vector('good').shape"
   ]
  },
  {
   "cell_type": "code",
   "execution_count": null,
   "metadata": {},
   "outputs": [],
   "source": [
    "class Word2Vec:\n",
    "    \n",
    "    def __init__(self,modelPath,vecSize):\n",
    "        self.modelPath = modelPath\n",
    "        self.vecSize = vecSize\n",
    "        \n",
    "    def loadModel(self):\n",
    "        self.model = KeyedVectors.load_word2vec_format(filename, binary=True)\n",
    "        \n",
    "    def fetchWV(self,word):\n",
    "        return self.model.get_vectors(word)\n",
    "    \n",
    "    def getWVs(self,text):\n",
    "        \n",
    "        tokens = text.split()\n",
    "        wvs = [fetchWV(word) for word in tokens]\n",
    "        return getWVs\n",
    "    \n",
    "    def getWeights(self):\n",
    "        #implement tfidf\n",
    "        reutrn w\n",
    "    \n",
    "    def getDocVec(self,wvs):\n",
    "        \n",
    "        docVec = numpy.zeros(self.vecSize)\n",
    "        for wv in wvs:\n",
    "            docVec += self.getWeights()*numpy.array(wv)\n",
    "        return docVec\n",
    "    \n",
    "    def applyDocVec(self,df):\n",
    "        \n",
    "        df['docVec'] = df.Text.apply(lambda x: )\n",
    "            \n",
    "    "
   ]
  }
 ],
 "metadata": {
  "kernelspec": {
   "display_name": "Python 3",
   "language": "python",
   "name": "python3"
  },
  "language_info": {
   "codemirror_mode": {
    "name": "ipython",
    "version": 3
   },
   "file_extension": ".py",
   "mimetype": "text/x-python",
   "name": "python",
   "nbconvert_exporter": "python",
   "pygments_lexer": "ipython3",
   "version": "3.6.5"
  }
 },
 "nbformat": 4,
 "nbformat_minor": 2
}
